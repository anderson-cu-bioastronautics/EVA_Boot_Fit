{
 "cells": [
  {
   "cell_type": "code",
   "execution_count": 1,
   "metadata": {},
   "outputs": [],
   "source": [
    "import numpy as np\n",
    "import pandas as pd\n",
    "import matplotlib.pyplot as plt"
   ]
  },
  {
   "cell_type": "code",
   "execution_count": 2,
   "metadata": {},
   "outputs": [
    {
     "data": {
      "text/plain": [
       "(     Subject  Config  Trial  Side        1        2    3    4        5    6  \\\n",
       " 0          2       0      5     1  0.00000  0.00000  0.0  0.0      NaN  NaN   \n",
       " 1          2       0      8     1  0.00000  0.00000  0.0  0.0      NaN  NaN   \n",
       " 2          2       0      2     1  0.00000  0.00000  0.0  0.0  0.00000  NaN   \n",
       " 3          2       0      9     1  0.00000  0.00000  0.0  NaN      NaN  NaN   \n",
       " 4          2       0     12     1  0.00000  0.00000  0.0  NaN      NaN  NaN   \n",
       " ..       ...     ...    ...   ...      ...      ...  ...  ...      ...  ...   \n",
       " 410        4       2     24     2  0.00000  0.00000  0.0  0.0  0.00000  NaN   \n",
       " 411        4       2     21     1  0.35938  0.36719  0.0  0.0      NaN  NaN   \n",
       " 412        4       2     19     1  0.14844  0.00000  0.0  NaN      NaN  NaN   \n",
       " 413        4       2     23     1  0.00000  0.00000  0.0  0.0  0.24219  0.0   \n",
       " 414        4       2     19     2  0.00000  0.00000  0.0  0.0  0.00000  0.0   \n",
       " \n",
       "        7   8   9  10  \n",
       " 0    NaN NaN NaN NaN  \n",
       " 1    NaN NaN NaN NaN  \n",
       " 2    NaN NaN NaN NaN  \n",
       " 3    NaN NaN NaN NaN  \n",
       " 4    NaN NaN NaN NaN  \n",
       " ..   ...  ..  ..  ..  \n",
       " 410  NaN NaN NaN NaN  \n",
       " 411  NaN NaN NaN NaN  \n",
       " 412  NaN NaN NaN NaN  \n",
       " 413  0.0 NaN NaN NaN  \n",
       " 414  NaN NaN NaN NaN  \n",
       " \n",
       " [415 rows x 14 columns],\n",
       "      Subject  Config  Trial  Side       1       2    3    4       5    6    7  \\\n",
       " 0          2       0      5     1  0.0000  0.0000  0.0  0.0     NaN  NaN  NaN   \n",
       " 1          2       0      8     1  0.0000  0.0000  0.0  0.0     NaN  NaN  NaN   \n",
       " 2          2       0      2     1  0.0000  0.0000  0.0  0.0   0.000  NaN  NaN   \n",
       " 3          2       0      9     1  0.0000  0.0000  0.0  NaN     NaN  NaN  NaN   \n",
       " 4          2       0     12     1  0.0000  0.0000  0.0  NaN     NaN  NaN  NaN   \n",
       " ..       ...     ...    ...   ...     ...     ...  ...  ...     ...  ...  ...   \n",
       " 409        4       2     24     2  0.0000  0.0000  0.0  0.0   0.000  NaN  NaN   \n",
       " 410        4       2     21     1  1.6488  8.8314  0.0  0.0     NaN  NaN  NaN   \n",
       " 411        4       2     19     1  5.6407  0.0000  0.0  NaN     NaN  NaN  NaN   \n",
       " 412        4       2     23     1  0.0000  0.0000  0.0  0.0  10.914  0.0  0.0   \n",
       " 413        4       2     19     2  0.0000  0.0000  0.0  0.0   0.000  0.0  NaN   \n",
       " \n",
       "       8   9  10  \n",
       " 0   NaN NaN NaN  \n",
       " 1   NaN NaN NaN  \n",
       " 2   NaN NaN NaN  \n",
       " 3   NaN NaN NaN  \n",
       " 4   NaN NaN NaN  \n",
       " ..   ..  ..  ..  \n",
       " 409 NaN NaN NaN  \n",
       " 410 NaN NaN NaN  \n",
       " 411 NaN NaN NaN  \n",
       " 412 NaN NaN NaN  \n",
       " 413 NaN NaN NaN  \n",
       " \n",
       " [414 rows x 14 columns])"
      ]
     },
     "execution_count": 2,
     "metadata": {},
     "output_type": "execute_result"
    }
   ],
   "source": [
    "columns = ['Subject','Config','Trial','Side',1,2,3,4,5,6,7,8,9,10]\n",
    "lags = pd.read_csv(\"./outputs/lags.csv\", names=columns, engine='python')\n",
    "meas = pd.read_csv(\"./outputs/meas.csv\", names=columns, engine='python')\n",
    "lags, meas"
   ]
  },
  {
   "cell_type": "code",
   "execution_count": 3,
   "metadata": {},
   "outputs": [
    {
     "data": {
      "image/png": "[encoded data removed]",
      "text/plain": [
       "<Figure size 864x432 with 3 Axes>"
      ]
     },
     "metadata": {
      "needs_background": "light"
     },
     "output_type": "display_data"
    }
   ],
   "source": [
    "fig,axs = plt.subplots(1,3,figsize=(12,6), sharey=True)\n",
    "colors = ['x','x','b','g','r']\n",
    "titles = ['Config 0', 'Config 1', 'Config 2']\n",
    "for conf in range(0,3):\n",
    "    trials = lags[lags['Config']==conf]\n",
    "    for indexT, rowT in trials.iterrows():\n",
    "        for s,lag in enumerate(rowT.iloc[-10:]):\n",
    "            if lag > 0 and not np.isnan(lag):\n",
    "                axs[conf].scatter(lag, meas.iloc[indexT][s+1], \n",
    "                                  color=colors[int(meas.iloc[indexT]['Subject'])])\n",
    "    axs[conf].set_xlabel('Spacesuit Heel-off Lag (s)')\n",
    "    axs[conf].set_title(titles[conf])\n",
    "    axs[conf].set_ylim([0,10])\n",
    "axs[0].set_ylabel('Spacesuit Heel-off Measurement (cm)')\n",
    "    \n",
    "plt.suptitle('Heel-Off Measurement vs. Lag')\n",
    "#plt.tight_layout()\n",
    "plt.show()"
   ]
  },
  {
   "cell_type": "code",
   "execution_count": 65,
   "metadata": {},
   "outputs": [
    {
     "data": {
      "text/plain": [
       "2.0"
      ]
     },
     "execution_count": 65,
     "metadata": {},
     "output_type": "execute_result"
    }
   ],
   "source": [
    "meas.iloc[indexT]['Subject']"
   ]
  },
  {
   "cell_type": "code",
   "execution_count": 51,
   "metadata": {},
   "outputs": [
    {
     "data": {
      "text/plain": [
       "425"
      ]
     },
     "execution_count": 51,
     "metadata": {},
     "output_type": "execute_result"
    }
   ],
   "source": [
    "indexT"
   ]
  },
  {
   "cell_type": "code",
   "execution_count": null,
   "metadata": {},
   "outputs": [],
   "source": []
  }
 ],
 "metadata": {
  "kernelspec": {
   "display_name": "Python 3",
   "language": "python",
   "name": "python3"
  },
  "language_info": {
   "codemirror_mode": {
    "name": "ipython",
    "version": 3
   },
   "file_extension": ".py",
   "mimetype": "text/x-python",
   "name": "python",
   "nbconvert_exporter": "python",
   "pygments_lexer": "ipython3",
   "version": "3.7.6"
  }
 },
 "nbformat": 4,
 "nbformat_minor": 4
}
